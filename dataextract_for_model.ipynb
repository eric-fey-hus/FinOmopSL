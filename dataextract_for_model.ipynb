{
 "cells": [
  {
   "cell_type": "markdown",
   "id": "d6a6e960-0312-40f7-9a3c-02eedb2919ed",
   "metadata": {
    "nteract": {
     "transient": {
      "deleting": false
     }
    },
    "tags": []
   },
   "source": [
    "# FinOMOP ML model AML v1 : data extract\n",
    "\n",
    "Author: Salma Rachidi, Eric Fey (eric.fey@hus.fi)  \n",
    "Version: v0.3  \n",
    "Date: 2023-10-31\n",
    "\n",
    "This python jupyter notebook extracts and transforms the required data for the FinOMOP AML model from the OMOP database.\n",
    "The notebook will generate a csv file containing the data. \n",
    "\n",
    "**How to use?**  \n",
    "The connection details for your OMOP database need to be configured according to your setup. \n",
    "Then run the notebook. \n",
    "\n",
    "\n",
    "<details><summary><b>Description:</b> (click for details)</summary>\n",
    "\n",
    "The purpose of this notebook is to extact some data from HUS OMOP for testing the OMOP data annomyzation process using a specific use case. \n",
    "The use case is the data required for the FinOMOP AML model v1.0.\n",
    "\n",
    "Cohort: AML patients. Patients with AML diagnosis (and AML descendant concepts) are selected.  \n",
    "\n",
    "Overview of data:\n",
    "\n",
    "  - persons: Clinical variables characterising the cohort. Several OMOP tables are joined to get this info:\n",
    "      - condition_occurrence\n",
    "      - death\n",
    "      - person\n",
    "      - visit_occurrence\n",
    "  - measurements: A selected set of measurement variables for the cohort. The following measurements are needed (number = concept_id):\n",
    "      - 3022250, # LDH\n",
    "      - 3000963, # Hemoglobin\n",
    "      - 3010813, # Leukocytes [#/volume] in Blood\n",
    "      - 3009992, # Blasts/100 cells in Bone marrow\n",
    "      - 3025159, # Blasts/100 leukocytes in Blood\t\n",
    "      - 3007461, # Platelets [#/volume] in Blood\n",
    "      - 3002030, # Lymphocytes/100 leukocytes in Blood\t\n",
    "      - 3019069, # Monocytes/100 leukocytes in Blood\t\n",
    "      - 3018010, # Neutrophils/100 leukocytes in Blood\n",
    "      - 3006504, # Eosinophils/100 leukocytes in Blood\n",
    "      - 3022096, # Basophils/100 leukocytes in Blood\t\n",
    "      - 3032352, # Blasts [#/volume] in Cerebral spinal fluid\n",
    "      - 3042111, #Morphology [Interpretation] in Bone marrow\n",
    "  - observations: not needed for v1.0\n",
    "  - procedures: not needed for v1.0\n",
    "  - drugs: not needed for v1.0\n",
    "\n",
    "Link to diagram: https://drive.google.com/file/d/1Ub7o1xdKIqfpnBFrXLfym1lUdD7x5xmJ/view?usp=sharing\n",
    "\n",
    "The required table for the model is (after data-preprocessing, pseudo-annomyzation, and filtering) saved in the current working dorectory as \n",
    "    - df_xy_tmp.csv\n",
    "    \n",
    "For the model, only timepoints reltive to the date of first diagnosis are needed (no exact dates).  \n",
    "</details>\n",
    "&nbsp;\n",
    "    \n",
    "**Todo:**\n",
    "- [ ] Add OMOP connection configs for VARHA and PIRHA\n",
    "- [ ] Adapt to use SQLAlchemy for HUS with paramterized queries.\n"
   ]
  },
  {
   "cell_type": "code",
   "execution_count": 132,
   "id": "3726f1c7-2353-4e86-b055-20065d4a206c",
   "metadata": {
    "gather": {
     "logged": 1669713766671
    }
   },
   "outputs": [
    {
     "name": "stdin",
     "output_type": "stream",
     "text": [
      " ········\n"
     ]
    },
    {
     "data": {
      "text/plain": [
       "'Connection successful!'"
      ]
     },
     "execution_count": 132,
     "metadata": {},
     "output_type": "execute_result"
    }
   ],
   "source": [
    "import numpy as np  \n",
    "import pandas as pd\n",
    "from datetime import date, timedelta\n",
    "import sqlalchemy \n",
    "from sqlalchemy import create_engine, text\n",
    "import pyodbc\n",
    "import getpass\n",
    "\n",
    "# HUS specific code to connect to the OMOP database that needs to be replaced according to your database:\n",
    "# For SQLServer using the pyodbc driver:\n",
    "server = 'tcp:SERVER.net' \n",
    "database = 'DATABASENAME' \n",
    "username = 'USERNAME' \n",
    "# Direct odbc connection:\n",
    "con = pyodbc.connect('DRIVER={ODBC Driver 17 for SQL Server};SERVER='+server+';DATABASE='+database+';UID='+username+';PWD='+ getpass.getpass() +\";Authentication=ActiveDirectoryPassword\")\n",
    "cursor = con.cursor()\n",
    "cursor.execute(\"select 'Connection successful!';\").fetchall()[0][0]\n",
    "#SQLAlchemt connection:\n",
    "#engine = sqlalchemy.create_engine(\"mssql+pyodbc:///?odbc_connect=DRIVER%3D%7BODBC+Driver+17+for+SQL+Server%7D%3BSERVER%3Dtcp%3Ahusfd-tu-omop-sqls.database.windows.net%3BDATABASE%3Dhfdtu1052022ecare4meb2%3BUID%3Dext-dirk.fey%40hustietoallas.fi%3BPWD%3D\"+getpass.getpass(\"Password:\")+\"%3BAuthentication%3DActiveDirectoryPassword\", echo=True)\n",
    "#with engine.connect() as connection:\n",
    "#    result = connection.execute(text(\"select 1;\")).all()\n",
    "#result\n",
    "#con = engine.connect()\n",
    "#con.execute(text(\"select 'Connection successful!'\")).all()[0][0]\n",
    "\n",
    "# VARHA specific connection details:\n",
    "# For example: Using PostgreSQL and the psycopg driver:\n",
    "#import psycopg2\n",
    "#import getpass\n",
    "#from sqlalchemy import create_engine\n",
    "#pw = getpass.getpass()\n",
    "#con = psycopg2.connect(host='xxx', port = '5432', user='xxx' , password = pw, dbname='omop')\n",
    "\n",
    "# PIRHA specific connection details:\n",
    "#server = 'YOURSERVER' \n",
    "#database = 'YOURDATABASE' \n",
    "#username = 'YOURUSERNAME' \n",
    "#con = pyodbc.connect('DRIVER={ODBC Driver 17 for SQL Server};SERVER='+server+';DATABASE='+database+';UID='+username+';PWD='+ getpass.getpass())\n",
    "#cursor = con.cursor()\n",
    "#cursor.execute(\"select 'Connection successful!';\").fetchall()[0][0]\n"
   ]
  },
  {
   "cell_type": "code",
   "execution_count": 107,
   "id": "c315f8c8-42a6-48e6-99e2-adcad18ff868",
   "metadata": {},
   "outputs": [
    {
     "data": {
      "text/plain": [
       "'/mnt/batch/tasks/shared/LS_root/mounts/clusters/eric-ci03/code/Users/ext-dirk.fey/FinOMOP-SL'"
      ]
     },
     "execution_count": 107,
     "metadata": {},
     "output_type": "execute_result"
    }
   ],
   "source": [
    "os.chdir('../FinOMOP-SL')\n",
    "os.getcwd()"
   ]
  },
  {
   "cell_type": "code",
   "execution_count": 133,
   "id": "6581820c-43ab-43fa-a8a7-2abc56896650",
   "metadata": {},
   "outputs": [],
   "source": [
    "# For HUS:\n",
    "schema = \"omop_2023_06_21\"\n",
    "parameter = \"(?)\"\n",
    "# For VARHA: \n",
    "#schema = \"cdm\"\n",
    "#parameter = \"(%s)\"\n",
    "# For PIRHA:"
   ]
  },
  {
   "cell_type": "markdown",
   "id": "f22a73a8-9056-49e5-972c-5003e2f28a3f",
   "metadata": {},
   "source": [
    "## Get data\n",
    "\n",
    "Uee concept_id 140352 for Acute myeloid leukemia (AML). \n",
    "The following cell generates the cohort by inlcuding all descendents concepts, using informatoin from several OMOP tables:\n",
    "condition_occurrence, person, death, visit_occurrence. \n",
    "Patients (persons) for which no visit_occurence record exists are filtered out (required at HUS to exclude potential non-HUS patients that might exists in the database.)\n",
    "\n",
    "Notes: \n",
    " - first diagnosis is defined as first occurrence of an AML condition\n",
    " - last followup is defined as last day of last visit"
   ]
  },
  {
   "cell_type": "code",
   "execution_count": 136,
   "id": "b8536de5-f83b-4b97-899e-38f8e7bae2d1",
   "metadata": {},
   "outputs": [
    {
     "name": "stdout",
     "output_type": "stream",
     "text": [
      "1757\n"
     ]
    }
   ],
   "source": [
    "AML_concept = 140352 # 140352 AML\n",
    "sql1 = \"\"\"\n",
    "-- This creates table with person_id, diagnosis_start date.\n",
    "-- It inlcudes the condition and its descendents \n",
    "SELECT ce.person_id, MIN(condition_start_date) AS diagnosis_first, MAX(condition_end_date) AS diagnosis_last, \n",
    "    MIN(death_date) AS death_date, MIN(cause_concept_id) AS death_cause,\n",
    "    -- include age at diagnosis (EF: removed because DATEDIFF function not uniform across SQL dialects -> calculate in python):\n",
    "    -- MIN( DATEDIFF(year, p.birth_datetime, condition_start_date) ) AS age_at_diagnosis,\n",
    "    MIN(p.year_of_birth) AS year_of_birth, \n",
    "    -- inlcude gender:\n",
    "    CASE \n",
    "        WHEN MIN(gender_concept_id) = 8507 THEN 'male'\n",
    "        WHEN MIN(gender_concept_id) = 8532 THEN 'female'\n",
    "        ELSE 'other'\n",
    "    END gender,\n",
    "    -- inlcude last follow up (important when death_date empty), here based on visit_occurrence:\n",
    "    MAX( vo.visit_end_date) AS last_followup\n",
    "FROM @schema.condition_occurrence ce\n",
    "--JOIN @schema.concept ON condition_concept_id = concept_id\n",
    "-- inlcude death:\n",
    "LEFT JOIN @schema.DEATH d ON ce.person_id = d.person_id\n",
    "-- inlcude info from persons:\n",
    "LEFT JOIN @schema.PERSON p ON ce.person_id = p.person_id\n",
    "-- inlcude visits:\n",
    "LEFT JOIN @schema.visit_occurrence vo ON ce.person_id = vo.person_id\n",
    "-- inlcude condition and its descendants:\n",
    "WHERE condition_concept_id IN ( --Conditions descendants\n",
    "    SELECT concept_id FROM @schema.concept\n",
    "    INNER JOIN @schema.concept_ancestor AS a\n",
    "    ON concept_id = descendant_concept_id  /* Get descendant names */\n",
    "    WHERE ancestor_concept_id = @parameter        /* Fix ancestor  */ \n",
    "    AND standard_concept = 'S' AND concept_class_id = 'Clinical Finding'\n",
    ")\n",
    "GROUP BY ce.person_id\n",
    "\"\"\".replace(\"@schema\", schema).replace(\"@parameter\", parameter)\n",
    "#print(sql1)\n",
    "persons = pd.read_sql(sql1, con, params=[AML_concept])\n",
    "#persons.head(5)\n",
    "print(persons.shape[0])"
   ]
  },
  {
   "cell_type": "code",
   "execution_count": 110,
   "id": "6d2819dc-a5aa-41b8-b454-273b0e07e196",
   "metadata": {},
   "outputs": [
    {
     "name": "stderr",
     "output_type": "stream",
     "text": [
      "/anaconda/envs/azureml_py38/lib/python3.8/site-packages/pandas/io/sql.py:761: UserWarning: pandas only support SQLAlchemy connectable(engine/connection) ordatabase string URI or sqlite3 DBAPI2 connectionother DBAPI2 objects are not tested, please consider using SQLAlchemy\n",
      "  warnings.warn(\n"
     ]
    },
    {
     "name": "stdout",
     "output_type": "stream",
     "text": [
      "8081551\n"
     ]
    }
   ],
   "source": [
    "sql2 = \"\"\"\n",
    "--SELECT * FROM @schema.MEASUREMENT \n",
    "SELECT person_id, concept_name AS measurement_name, measurement_concept_id, measurement_date, value_as_number, value_as_concept_id, unit_concept_id \n",
    "FROM @schema.MEASUREMENT\n",
    "JOIN @schema.CONCEPT ON measurement_concept_id = concept_id\n",
    "WHERE person_id IN (\n",
    "    --persons with condition\n",
    "    SELECT DISTINCT person_id \n",
    "    FROM @schema.condition_occurrence ce\n",
    "    WHERE condition_concept_id IN ( \n",
    "        --conditions descendants\n",
    "        SELECT concept_id FROM @schema.concept\n",
    "        INNER JOIN @schema.concept_ancestor AS a\n",
    "        ON concept_id = descendant_concept_id  /* Get descendant names */\n",
    "        WHERE ancestor_concept_id = @parameter        /* Fix ancestor  */ \n",
    "        AND standard_concept = 'S' AND concept_class_id = 'Clinical Finding'\n",
    "        )\n",
    "    )\n",
    "    AND measurement_concept_id != 0\n",
    "\"\"\".replace(\"@schema\", schema).replace(\"@parameter\", parameter)\n",
    "measurement = pd.read_sql(sql2, con, params=[AML_concept])\n",
    "print(measurement.shape[0])"
   ]
  },
  {
   "cell_type": "code",
   "execution_count": 111,
   "id": "e8b0e031-4cb2-43b4-8da0-95ef3957031f",
   "metadata": {},
   "outputs": [
    {
     "name": "stderr",
     "output_type": "stream",
     "text": [
      "/anaconda/envs/azureml_py38/lib/python3.8/site-packages/pandas/io/sql.py:761: UserWarning: pandas only support SQLAlchemy connectable(engine/connection) ordatabase string URI or sqlite3 DBAPI2 connectionother DBAPI2 objects are not tested, please consider using SQLAlchemy\n",
      "  warnings.warn(\n"
     ]
    },
    {
     "name": "stdout",
     "output_type": "stream",
     "text": [
      "95610\n"
     ]
    }
   ],
   "source": [
    "sql3 = \"\"\"\n",
    "--SELECT * FROM @schema.OBSERVATION \n",
    "SELECT person_id, concept_name AS observation_name, observation_concept_id, observation_date, value_as_number, value_as_string, value_as_concept_id, qualifier_concept_id, unit_concept_id\n",
    "FROM @schema.OBSERVATION\n",
    "INNER JOIN @schema.CONCEPT ON observation_concept_id = concept_id\n",
    "WHERE person_id IN (\n",
    "    --persons with condition\n",
    "    SELECT DISTINCT person_id \n",
    "    FROM @schema.condition_occurrence ce\n",
    "    WHERE condition_concept_id IN ( \n",
    "        --conditions descendants\n",
    "        SELECT concept_id FROM @schema.concept\n",
    "        INNER JOIN @schema.concept_ancestor AS a\n",
    "        ON concept_id = descendant_concept_id  /* Get descendant names */\n",
    "        WHERE ancestor_concept_id = @parameter        /* Fix ancestor  */ \n",
    "        AND standard_concept = 'S' AND concept_class_id = 'Clinical Finding'\n",
    "        )\n",
    "    )\n",
    "    AND observation_concept_id != 0\n",
    "\"\"\".replace(\"@schema\", schema).replace(\"@parameter\", parameter)\n",
    "observation = pd.read_sql(sql3, con, params=[AML_concept])\n",
    "print(observation.shape[0])"
   ]
  },
  {
   "cell_type": "code",
   "execution_count": 112,
   "id": "f136a4c3-77b3-4a99-a23e-7df333530e81",
   "metadata": {},
   "outputs": [
    {
     "name": "stderr",
     "output_type": "stream",
     "text": [
      "/anaconda/envs/azureml_py38/lib/python3.8/site-packages/pandas/io/sql.py:761: UserWarning: pandas only support SQLAlchemy connectable(engine/connection) ordatabase string URI or sqlite3 DBAPI2 connectionother DBAPI2 objects are not tested, please consider using SQLAlchemy\n",
      "  warnings.warn(\n"
     ]
    },
    {
     "name": "stdout",
     "output_type": "stream",
     "text": [
      "107631\n"
     ]
    }
   ],
   "source": [
    "sql4 = \"\"\"\n",
    "--SELECT * FROM @schema.PROCEDURE_OCCURRENCE \n",
    "SELECT person_id, concept_name AS procedure_name, procedure_concept_id, procedure_date, procedure_type_concept_id, modifier_concept_id\n",
    "FROM @schema.PROCEDURE_OCCURRENCE\n",
    "INNER JOIN @schema.CONCEPT ON procedure_concept_id = concept_id\n",
    "WHERE person_id IN (\n",
    "    --persons with condition\n",
    "    SELECT DISTINCT person_id \n",
    "    FROM @schema.condition_occurrence ce\n",
    "    WHERE condition_concept_id IN ( \n",
    "        --conditions descendants\n",
    "        SELECT concept_id FROM @schema.concept\n",
    "        INNER JOIN @schema.concept_ancestor AS a\n",
    "        ON concept_id = descendant_concept_id  /* Get descendant names */\n",
    "        WHERE ancestor_concept_id = @parameter        /* Fix ancestor  */ \n",
    "        AND standard_concept = 'S' AND concept_class_id = 'Clinical Finding'\n",
    "        )\n",
    "    )\n",
    "    AND procedure_concept_id != 0\n",
    "\"\"\".replace(\"@schema\", schema).replace(\"@parameter\", parameter)\n",
    "procedure = pd.read_sql(sql4, con, params=[AML_concept])\n",
    "print(procedure.shape[0])"
   ]
  },
  {
   "cell_type": "code",
   "execution_count": 113,
   "id": "1e6171e3-606f-4588-acf3-b90c8f48606f",
   "metadata": {},
   "outputs": [
    {
     "name": "stderr",
     "output_type": "stream",
     "text": [
      "/anaconda/envs/azureml_py38/lib/python3.8/site-packages/pandas/io/sql.py:761: UserWarning: pandas only support SQLAlchemy connectable(engine/connection) ordatabase string URI or sqlite3 DBAPI2 connectionother DBAPI2 objects are not tested, please consider using SQLAlchemy\n",
      "  warnings.warn(\n"
     ]
    },
    {
     "name": "stdout",
     "output_type": "stream",
     "text": [
      "379803\n"
     ]
    }
   ],
   "source": [
    "sql5 = \"\"\"\n",
    "SELECT person_id, concept_name AS drug_name, drug_concept_id, \n",
    "    drug_exposure_start_date AS date,\n",
    "    drug_exposure_end_date AS end_date \n",
    "FROM @schema.DRUG_EXPOSURE\n",
    "INNER JOIN @schema.CONCEPT ON drug_concept_id = concept_id\n",
    "WHERE person_id IN (\n",
    "    --persons with condition\n",
    "    SELECT DISTINCT person_id \n",
    "    FROM @schema.condition_occurrence ce\n",
    "    WHERE condition_concept_id IN ( \n",
    "        --conditions descendants\n",
    "        SELECT concept_id FROM @schema.concept\n",
    "        INNER JOIN @schema.concept_ancestor AS a\n",
    "        ON concept_id = descendant_concept_id         /* Get descendant names */\n",
    "        WHERE ancestor_concept_id = @parameter        /* Fix ancestor  */ \n",
    "        AND standard_concept = 'S' AND concept_class_id = 'Clinical Finding'\n",
    "        )\n",
    "    )\n",
    "    AND drug_concept_id != 0  /* Filter out unmapped drugs */\n",
    "\"\"\".replace(\"@schema\", schema).replace(\"@parameter\", parameter)\n",
    "drug = pd.read_sql(sql5, con, params=[AML_concept])\n",
    "print(drug.shape[0])"
   ]
  },
  {
   "cell_type": "markdown",
   "id": "a4e66161-01ae-4095-b054-90d678deccf4",
   "metadata": {},
   "source": [
    "## Data pre-processing for dates"
   ]
  },
  {
   "cell_type": "code",
   "execution_count": 140,
   "id": "09fa0e2f-769d-48e5-a654-1dfd3e72105e",
   "metadata": {},
   "outputs": [],
   "source": [
    "# Data processing (increase pseudo-annomysation): calculate dates with respect to first diagnosis:\n",
    "dateformat=\"datetime64[ns]\"\n",
    "persons = (\n",
    "    persons\n",
    "    # make sure date colums are of type datetime \n",
    "    .assign(diagnosis_first = lambda x: x.diagnosis_first.astype(dateformat))\n",
    "    .assign(diagnosis_last =  lambda x: x.diagnosis_last.astype(dateformat))\n",
    "    .assign(death_date =      lambda x: x.death_date.astype(dateformat))\n",
    "    .assign(last_followup =   lambda x: x.last_followup.astype(dateformat))\n",
    "    # instead of exact dates use realtive time: time from diagnosis in days:\n",
    "    .assign(diagnosis_last_time = lambda x: (x.diagnosis_last - x.diagnosis_first) / pd.Timedelta(days=1) )\n",
    "    .assign(death_time          = lambda x: (x.death_date     - x.diagnosis_first) / pd.Timedelta(days=1) )\n",
    "    .assign(last_followup_time  = lambda x: (x.last_followup  - x.diagnosis_first) / pd.Timedelta(days=1) )\n",
    "    # calculate age at first diagnosis\n",
    "    .assign(age_at_diagnosis    = lambda x: (x.diagnosis_first.dt.year - x.year_of_birth) )\n",
    ")\n",
    "#persons.head(5)\n",
    "#persons.info()"
   ]
  },
  {
   "cell_type": "code",
   "execution_count": 115,
   "id": "fbab9906-c1e4-4f67-b80b-5d6c1e99aa5b",
   "metadata": {},
   "outputs": [],
   "source": [
    "# make sure dates are of type datetime in the other tables:\n",
    "measurement = (\n",
    "    measurement\n",
    "    .assign(measurement_date = lambda x: x.measurement_date.astype(\"datetime64[ns]\"))\n",
    ")\n",
    "observation = (\n",
    "    observation\n",
    "    .assign(observation_date = lambda x: x.observation_date.astype(\"datetime64[ns]\"))\n",
    ")\n",
    "procedure = (\n",
    "    procedure\n",
    "    .assign(procedure_date = lambda x: x.procedure_date.astype(\"datetime64[ns]\"))\n",
    ")"
   ]
  },
  {
   "cell_type": "code",
   "execution_count": 141,
   "id": "12c00fd4-00b0-430e-8821-d72e251e8696",
   "metadata": {},
   "outputs": [
    {
     "name": "stdout",
     "output_type": "stream",
     "text": [
      "Number of patients: 1,757\n",
      "Number of measurements: 8,081,551\n",
      "Number of observations: 95,610\n",
      "Number of procedures: 107,631\n"
     ]
    }
   ],
   "source": [
    "# make tables that inlcudes 1st diagnosis date\n",
    "if \"diagnosis_first\" not in measurement.columns :\n",
    "    measurement = pd.merge(measurement, persons[[\"person_id\", \"diagnosis_first\"]], how = 'left', on = 'person_id')\n",
    "if \"diagnosis_first\" not in observation.columns :\n",
    "    observation = pd.merge(observation, persons[[\"person_id\", \"diagnosis_first\"]], how = 'left', on = 'person_id')\n",
    "if \"diagnosis_first\" not in procedure.columns :\n",
    "    procedure = pd.merge(procedure, persons[[\"person_id\", \"diagnosis_first\"]], how = 'left', on = 'person_id')\n",
    "\n",
    "# Include time as days from first diagnosis\n",
    "measurement = measurement.assign(time = lambda x: (x.measurement_date-x.diagnosis_first) / pd.Timedelta(days=1) )\n",
    "observation = observation.assign(time = lambda x: (x.observation_date-x.diagnosis_first) / pd.Timedelta(days=1) )\n",
    "procedure = procedure.assign(time = lambda x: (x.procedure_date-x.diagnosis_first) / pd.Timedelta(days=1) )    \n",
    "\n",
    "print(f\"Number of patients: {persons.shape[0]:,.0f}\")\n",
    "print(f\"Number of measurements: {measurement.shape[0]:,.0f}\")\n",
    "print(f\"Number of observations: {observation.shape[0]:,.0f}\")\n",
    "print(f\"Number of procedures: {procedure.shape[0]:,.0f}\")\n"
   ]
  },
  {
   "cell_type": "markdown",
   "id": "2db6c72a-0717-45f5-b385-5b27fffb9c21",
   "metadata": {
    "tags": []
   },
   "source": [
    "## Data preprocessing\n"
   ]
  },
  {
   "cell_type": "markdown",
   "id": "5bbb4627-f810-4cfa-be9e-87e0c75d1ff3",
   "metadata": {},
   "source": [
    "### Filter relevant measurements\n",
    "\n",
    "These are the most appropiate OMOP concepts identified so far (based on the data from all hospitals only)."
   ]
  },
  {
   "cell_type": "code",
   "execution_count": 162,
   "id": "530136be-17ca-4345-8aef-c280066e06fa",
   "metadata": {},
   "outputs": [],
   "source": [
    "# Select key concepts\n",
    "myvars = [\n",
    "    3022250, # LDH\n",
    "    3000963, # Hemoglobin\n",
    "    3010813, # Leukocytes [#/volume] in Blood\n",
    "    3009992, # Blasts/100 cells in Bone marrow\n",
    "    3025159, # Blasts/100 leukocytes in Blood\t\n",
    "    3007461, # Platelets [#/volume] in Blood\n",
    "    3002030,\t# Lymphocytes/100 leukocytes in Blood\t\n",
    "    3019069,\t# Monocytes/100 leukocytes in Blood\t\n",
    "    3018010,\t# Neutrophils/100 leukocytes in Blood\n",
    "    3006504,\t# Eosinophils/100 leukocytes in Blood\n",
    "    3022096,\t# Basophils/100 leukocytes in Blood\t\n",
    "]\n",
    "\n",
    "measurement_f1 = (\n",
    "    measurement\n",
    "    .query(\"measurement_concept_id in @myvars\")\n",
    "    .filter([\"measurement_concept_id\", \"measurement_name\", \"person_id\", \"value_as_number\", \"time\"])\n",
    "    .query(\"time >= -5 and time <=21\")\n",
    "    .sort_values(\"time\")\n",
    "    .sort_values([\"person_id\", \"time\"]) \n",
    ")\n"
   ]
  },
  {
   "cell_type": "markdown",
   "id": "54314291-a13b-4553-807a-6b81b9474028",
   "metadata": {},
   "source": [
    "## Overview of patient cohort"
   ]
  },
  {
   "cell_type": "code",
   "execution_count": 161,
   "id": "8b85c5fa-e91d-4418-b63b-2d986889ac21",
   "metadata": {},
   "outputs": [
    {
     "data": {
      "text/html": [
       "<div>\n",
       "<style scoped>\n",
       "    .dataframe tbody tr th:only-of-type {\n",
       "        vertical-align: middle;\n",
       "    }\n",
       "\n",
       "    .dataframe tbody tr th {\n",
       "        vertical-align: top;\n",
       "    }\n",
       "\n",
       "    .dataframe thead th {\n",
       "        text-align: right;\n",
       "    }\n",
       "</style>\n",
       "<table border=\"1\" class=\"dataframe\">\n",
       "  <thead>\n",
       "    <tr style=\"text-align: right;\">\n",
       "      <th></th>\n",
       "      <th>female</th>\n",
       "      <th>male</th>\n",
       "    </tr>\n",
       "  </thead>\n",
       "  <tbody>\n",
       "    <tr>\n",
       "      <th>patients</th>\n",
       "      <td>885.0</td>\n",
       "      <td>872.0</td>\n",
       "    </tr>\n",
       "    <tr>\n",
       "      <th>age_median</th>\n",
       "      <td>60.0</td>\n",
       "      <td>59.0</td>\n",
       "    </tr>\n",
       "    <tr>\n",
       "      <th>followup_days</th>\n",
       "      <td>554.0</td>\n",
       "      <td>527.5</td>\n",
       "    </tr>\n",
       "  </tbody>\n",
       "</table>\n",
       "</div>"
      ],
      "text/plain": [
       "               female   male\n",
       "patients        885.0  872.0\n",
       "age_median       60.0   59.0\n",
       "followup_days   554.0  527.5"
      ]
     },
     "metadata": {},
     "output_type": "display_data"
    }
   ],
   "source": [
    "cohort_stats_gender = (\n",
    "    persons\n",
    "    .groupby(\"gender\")\n",
    "    .agg(\n",
    "        patients = (\"person_id\", \"nunique\"),\n",
    "        age_median = (\"age_at_diagnosis\", \"median\"),\n",
    "        #age_min = (\"age_at_diagnosis\", \"min\"),\n",
    "        #age_max = (\"age_at_diagnosis\", \"max\"),\n",
    "        followup_days = (\"last_followup_time\", \"median\")\n",
    "    )\n",
    ").transpose()\n",
    "cohort_stats_gender.columns.name=None\n",
    "cohort_stats_gender.pipe(display)"
   ]
  },
  {
   "cell_type": "markdown",
   "id": "fe7f1cfb-5888-4990-b950-7fee38fac487",
   "metadata": {},
   "source": [
    "## Overview of measurments"
   ]
  },
  {
   "cell_type": "code",
   "execution_count": 163,
   "id": "f49c1104-e8d0-4176-aa2e-85c726beb653",
   "metadata": {},
   "outputs": [
    {
     "name": "stdout",
     "output_type": "stream",
     "text": [
      "Patient numbers per measurement concept:\n"
     ]
    },
    {
     "data": {
      "text/html": [
       "<div>\n",
       "<style scoped>\n",
       "    .dataframe tbody tr th:only-of-type {\n",
       "        vertical-align: middle;\n",
       "    }\n",
       "\n",
       "    .dataframe tbody tr th {\n",
       "        vertical-align: top;\n",
       "    }\n",
       "\n",
       "    .dataframe thead th {\n",
       "        text-align: right;\n",
       "    }\n",
       "</style>\n",
       "<table border=\"1\" class=\"dataframe\">\n",
       "  <thead>\n",
       "    <tr style=\"text-align: right;\">\n",
       "      <th></th>\n",
       "      <th>measurement_concept_id</th>\n",
       "      <th>measurement_name</th>\n",
       "      <th>n_person_with_meas</th>\n",
       "      <th>n_meas_tot</th>\n",
       "      <th>avg_n_meas</th>\n",
       "      <th>min_n_meas</th>\n",
       "      <th>max_n_meas</th>\n",
       "      <th>avg_meas_first</th>\n",
       "      <th>avg_meas_last</th>\n",
       "    </tr>\n",
       "  </thead>\n",
       "  <tbody>\n",
       "    <tr>\n",
       "      <th>0</th>\n",
       "      <td>3000963</td>\n",
       "      <td>Hemoglobin [Mass/volume] in Blood</td>\n",
       "      <td>1456</td>\n",
       "      <td>21814</td>\n",
       "      <td>15.0</td>\n",
       "      <td>1</td>\n",
       "      <td>254</td>\n",
       "      <td>0.0</td>\n",
       "      <td>21.0</td>\n",
       "    </tr>\n",
       "    <tr>\n",
       "      <th>1</th>\n",
       "      <td>3007461</td>\n",
       "      <td>Platelets [#/volume] in Blood</td>\n",
       "      <td>1456</td>\n",
       "      <td>20801</td>\n",
       "      <td>15.0</td>\n",
       "      <td>1</td>\n",
       "      <td>73</td>\n",
       "      <td>0.0</td>\n",
       "      <td>21.0</td>\n",
       "    </tr>\n",
       "    <tr>\n",
       "      <th>2</th>\n",
       "      <td>3010813</td>\n",
       "      <td>Leukocytes [#/volume] in Blood</td>\n",
       "      <td>1456</td>\n",
       "      <td>20817</td>\n",
       "      <td>15.0</td>\n",
       "      <td>1</td>\n",
       "      <td>74</td>\n",
       "      <td>0.0</td>\n",
       "      <td>21.0</td>\n",
       "    </tr>\n",
       "    <tr>\n",
       "      <th>3</th>\n",
       "      <td>3002030</td>\n",
       "      <td>Lymphocytes/100 leukocytes in Blood</td>\n",
       "      <td>1399</td>\n",
       "      <td>6915</td>\n",
       "      <td>4.0</td>\n",
       "      <td>1</td>\n",
       "      <td>28</td>\n",
       "      <td>0.0</td>\n",
       "      <td>14.0</td>\n",
       "    </tr>\n",
       "    <tr>\n",
       "      <th>4</th>\n",
       "      <td>3019069</td>\n",
       "      <td>Monocytes/100 leukocytes in Blood</td>\n",
       "      <td>1386</td>\n",
       "      <td>6320</td>\n",
       "      <td>4.0</td>\n",
       "      <td>1</td>\n",
       "      <td>24</td>\n",
       "      <td>0.0</td>\n",
       "      <td>13.0</td>\n",
       "    </tr>\n",
       "    <tr>\n",
       "      <th>5</th>\n",
       "      <td>3018010</td>\n",
       "      <td>Neutrophils/100 leukocytes in Blood</td>\n",
       "      <td>1376</td>\n",
       "      <td>6271</td>\n",
       "      <td>4.0</td>\n",
       "      <td>1</td>\n",
       "      <td>25</td>\n",
       "      <td>0.0</td>\n",
       "      <td>13.0</td>\n",
       "    </tr>\n",
       "    <tr>\n",
       "      <th>6</th>\n",
       "      <td>3006504</td>\n",
       "      <td>Eosinophils/100 leukocytes in Blood</td>\n",
       "      <td>1285</td>\n",
       "      <td>4828</td>\n",
       "      <td>3.0</td>\n",
       "      <td>0</td>\n",
       "      <td>23</td>\n",
       "      <td>0.0</td>\n",
       "      <td>12.0</td>\n",
       "    </tr>\n",
       "    <tr>\n",
       "      <th>7</th>\n",
       "      <td>3022096</td>\n",
       "      <td>Basophils/100 leukocytes in Blood</td>\n",
       "      <td>1217</td>\n",
       "      <td>4245</td>\n",
       "      <td>3.0</td>\n",
       "      <td>0</td>\n",
       "      <td>23</td>\n",
       "      <td>0.0</td>\n",
       "      <td>12.0</td>\n",
       "    </tr>\n",
       "    <tr>\n",
       "      <th>8</th>\n",
       "      <td>3022250</td>\n",
       "      <td>Lactate dehydrogenase [Enzymatic activity/volu...</td>\n",
       "      <td>1156</td>\n",
       "      <td>7124</td>\n",
       "      <td>6.0</td>\n",
       "      <td>1</td>\n",
       "      <td>47</td>\n",
       "      <td>0.0</td>\n",
       "      <td>18.0</td>\n",
       "    </tr>\n",
       "    <tr>\n",
       "      <th>9</th>\n",
       "      <td>3025159</td>\n",
       "      <td>Blasts/100 leukocytes in Blood</td>\n",
       "      <td>746</td>\n",
       "      <td>3105</td>\n",
       "      <td>4.0</td>\n",
       "      <td>0</td>\n",
       "      <td>23</td>\n",
       "      <td>0.0</td>\n",
       "      <td>6.0</td>\n",
       "    </tr>\n",
       "    <tr>\n",
       "      <th>10</th>\n",
       "      <td>3009992</td>\n",
       "      <td>Blasts/100 cells in Bone marrow</td>\n",
       "      <td>97</td>\n",
       "      <td>99</td>\n",
       "      <td>1.0</td>\n",
       "      <td>0</td>\n",
       "      <td>2</td>\n",
       "      <td>1.0</td>\n",
       "      <td>1.0</td>\n",
       "    </tr>\n",
       "  </tbody>\n",
       "</table>\n",
       "</div>"
      ],
      "text/plain": [
       "    measurement_concept_id                                   measurement_name  \\\n",
       "0                  3000963                  Hemoglobin [Mass/volume] in Blood   \n",
       "1                  3007461                      Platelets [#/volume] in Blood   \n",
       "2                  3010813                     Leukocytes [#/volume] in Blood   \n",
       "3                  3002030                Lymphocytes/100 leukocytes in Blood   \n",
       "4                  3019069                  Monocytes/100 leukocytes in Blood   \n",
       "5                  3018010                Neutrophils/100 leukocytes in Blood   \n",
       "6                  3006504                Eosinophils/100 leukocytes in Blood   \n",
       "7                  3022096                  Basophils/100 leukocytes in Blood   \n",
       "8                  3022250  Lactate dehydrogenase [Enzymatic activity/volu...   \n",
       "9                  3025159                     Blasts/100 leukocytes in Blood   \n",
       "10                 3009992                    Blasts/100 cells in Bone marrow   \n",
       "\n",
       "    n_person_with_meas  n_meas_tot  avg_n_meas  min_n_meas  max_n_meas  \\\n",
       "0                 1456       21814        15.0           1         254   \n",
       "1                 1456       20801        15.0           1          73   \n",
       "2                 1456       20817        15.0           1          74   \n",
       "3                 1399        6915         4.0           1          28   \n",
       "4                 1386        6320         4.0           1          24   \n",
       "5                 1376        6271         4.0           1          25   \n",
       "6                 1285        4828         3.0           0          23   \n",
       "7                 1217        4245         3.0           0          23   \n",
       "8                 1156        7124         6.0           1          47   \n",
       "9                  746        3105         4.0           0          23   \n",
       "10                  97          99         1.0           0           2   \n",
       "\n",
       "    avg_meas_first  avg_meas_last  \n",
       "0              0.0           21.0  \n",
       "1              0.0           21.0  \n",
       "2              0.0           21.0  \n",
       "3              0.0           14.0  \n",
       "4              0.0           13.0  \n",
       "5              0.0           13.0  \n",
       "6              0.0           12.0  \n",
       "7              0.0           12.0  \n",
       "8              0.0           18.0  \n",
       "9              0.0            6.0  \n",
       "10             1.0            1.0  "
      ]
     },
     "execution_count": 163,
     "metadata": {},
     "output_type": "execute_result"
    }
   ],
   "source": [
    "# Make table with total numbers per concept (1. Number of persons with measurements available, 2. Total number of measurements)\n",
    "variables = (\n",
    "    measurement_f1\n",
    "    .filter([\"measurement_concept_id\", \"measurement_name\", \"person_id\", \"value_as_number\", \"unit_concept_id\", \"time\"])\n",
    "    .query(\"measurement_concept_id in @myvars\")\n",
    "    .groupby([\"measurement_concept_id\", \"measurement_name\"],  as_index=False)\n",
    "    .agg(n_person_with_meas=(\"person_id\",\"nunique\"),\n",
    "         n_meas_tot=(\"person_id\",\"count\"),\n",
    "         #avg_meas_per_person=(\"person_id\",\"\") \n",
    "        )\n",
    "    .sort_values(\"n_person_with_meas\", ascending=False)\n",
    ")\n",
    "\n",
    "# Make table with per-person numbers for each concept (average (median) number of measurements per person, etc.):\n",
    "variables_perperson = (\n",
    "    measurement_f1\n",
    "    .filter([\"measurement_concept_id\", \"measurement_name\", \"person_id\", \"value_as_number\", \"unit_concept_id\", \"time\"])\n",
    "    #.query(\"measurement_concept_id in @myvars\")\n",
    "    # 1. Calculate per person statistics:\n",
    "    .groupby([\"measurement_concept_id\", \"measurement_name\", \"person_id\"],  as_index=False)\n",
    "    .agg(n_meas=(\"value_as_number\",\"count\"),\n",
    "         meas_first=(\"time\",\"min\"),\n",
    "         meas_last=(\"time\",\"max\")\n",
    "        )\n",
    "    # 2. Calculate average per person stats:\n",
    "    .groupby([\"measurement_concept_id\", \"measurement_name\"],  as_index=False)\n",
    "    .agg(avg_n_meas=(\"n_meas\",\"median\"),\n",
    "         min_n_meas=(\"n_meas\",\"min\"),\n",
    "         max_n_meas=(\"n_meas\",\"max\"),\n",
    "         avg_meas_first=(\"meas_first\",\"median\"),\n",
    "         #med_meas_first=(\"meas_first\",\"median\"),\n",
    "         avg_meas_last=(\"meas_last\",\"median\")\n",
    "        )\n",
    "    #.mean() #doeas not work for datediff datatype\n",
    "    .sort_values(\"avg_n_meas\", ascending=False)\n",
    ")\n",
    "\n",
    "# Merge both tables and show result\n",
    "print(\"Patient numbers per measurement concept:\")\n",
    "variables = pd.merge(variables, variables_perperson.drop(\"measurement_name\", axis=1), on=\"measurement_concept_id\")\n",
    "variables\n"
   ]
  },
  {
   "cell_type": "markdown",
   "id": "27db930c-0452-4492-acd7-e4524126f371",
   "metadata": {},
   "source": [
    "## Prepare data for model\n",
    "\n",
    "Prepare wide, tidy tables inlcuding overall survival, and all features (measurements at differnet timepoints).\n",
    "The table contains many missing values (NaNs).\n",
    "\n",
    "Overall survival:\n",
    " - OSS_days: overall surval time (days) \n",
    " - OSS_status: (1-death, 0-censored)"
   ]
  },
  {
   "cell_type": "markdown",
   "id": "b541d54e-78c9-4d33-b75c-f6b9b86225cd",
   "metadata": {},
   "source": [
    "### Bring into wide format (timepoints as columns)"
   ]
  },
  {
   "cell_type": "code",
   "execution_count": 119,
   "id": "8ea05386-7a14-47b4-9d04-93e4f0e58904",
   "metadata": {},
   "outputs": [],
   "source": [
    "#pivot cannot handle duplicate indicies:\n",
    "measurement_f1.query(\"time>=-5 and time<=21\").head(100).sort_values(['measurement_name', 'time']).pivot(index=['person_id'], columns=['measurement_name', 'time'], values=['value_as_number'])\n",
    "# ...but pivot table can, using aggregates\n",
    "\n",
    "m_wide=(\n",
    "    measurement_f1\n",
    "    #.query(\"time>=-5 and time<=21\")#.head(500)\n",
    "    .sort_values(['measurement_name', 'time'])\n",
    "    .pivot_table(index=['person_id'], columns=['measurement_name', 'time'], values=['value_as_number'], \n",
    "                 aggfunc = \"mean\", fill_value = None, margins = False)\n",
    ")\n",
    "#m_wide.pipe(display)"
   ]
  },
  {
   "cell_type": "markdown",
   "id": "b354e046-cf48-4f56-a148-4abb92714744",
   "metadata": {},
   "source": [
    "### How many patients with at least 3 blast measurements?"
   ]
  },
  {
   "cell_type": "code",
   "execution_count": 121,
   "id": "4e77daa4-91c9-4c28-bfd6-e4fe2a68c0c4",
   "metadata": {},
   "outputs": [
    {
     "name": "stdout",
     "output_type": "stream",
     "text": [
      "Number of patients with at least 3 blast measurements: 650\n"
     ]
    }
   ],
   "source": [
    "df_x = m_wide.loc[m_numbers.query(\"`Blasts/100 leukocytes in Blood` >= 2\").index,:].droplevel(level=0, axis=1)\n",
    "print(f\"Number of patients with at least 3 blast measurements: {df_x.shape[0]}\")"
   ]
  },
  {
   "cell_type": "markdown",
   "id": "ca84ce98-ec3c-41c1-b0dd-44655580fafa",
   "metadata": {},
   "source": [
    "### Tidy x data for the model"
   ]
  },
  {
   "cell_type": "code",
   "execution_count": 122,
   "id": "1587f5a4-76e7-480a-8d73-5a0251ab3b0a",
   "metadata": {},
   "outputs": [],
   "source": [
    "# Flatten index\n",
    "df_x = m_wide.loc[m_numbers.query(\"`Blasts/100 leukocytes in Blood` >= 2\").index,:].droplevel(level=0, axis=1)\n",
    "#df_x.columns = df_x.columns.to_flat_index()\n",
    "#df_x"
   ]
  },
  {
   "cell_type": "markdown",
   "id": "8698daec-98eb-4c8f-bfce-10a7f7859e4c",
   "metadata": {},
   "source": [
    "### Tidy y data for model"
   ]
  },
  {
   "cell_type": "code",
   "execution_count": 123,
   "id": "b1550c53-7773-45fb-8009-371cae2eec46",
   "metadata": {},
   "outputs": [],
   "source": [
    "# Calculate overall surval time (days) and status (1-death, 0-censored)\n",
    "df_y = (\n",
    "    persons\n",
    "    .assign(OSS_days = lambda x: np.where( np.isnan(x[\"death_time\"].astype(\"float\")), x.last_followup_time, x.death_time))\n",
    "    .assign(OSS_status = lambda x: np.where( np.isnan(x[\"death_time\"].astype(\"float\")), 0, 1))    \n",
    ")\n",
    "#df_y.pipe(display)"
   ]
  },
  {
   "cell_type": "markdown",
   "id": "03e751f4-8690-47d4-9c88-0f6130101ad8",
   "metadata": {},
   "source": [
    "### Join x and y data for tidy data"
   ]
  },
  {
   "cell_type": "code",
   "execution_count": 164,
   "id": "533b7f0b-8513-4f5b-b55e-b93fc83e5564",
   "metadata": {},
   "outputs": [],
   "source": [
    "df_xy = df_y[[\"person_id\",\"OSS_days\", \"OSS_status\"]].set_index(\"person_id\")\n",
    "df_xy = df_xy.set_axis([[\"OSS_days\", \"OSS_status\"], ['I', 'II']], axis='columns').join(df_x, how=\"inner\")"
   ]
  },
  {
   "cell_type": "markdown",
   "id": "90180c41-dae1-4838-a2b6-7ed170d2ff53",
   "metadata": {},
   "source": [
    "### Save tidy table into csv file"
   ]
  },
  {
   "cell_type": "code",
   "execution_count": 125,
   "id": "c8f2d021-6b14-41bc-9cb6-241ad42e5b18",
   "metadata": {},
   "outputs": [],
   "source": [
    "# Save table into flat file (csv)\n",
    "# df_xy.head(5).to_csv(\"df_xy_test.csv\")\n",
    "filename = \"df_xy_tmp.csv\"\n",
    "df_xy.to_csv(\"df_xy_tmp.csv\")"
   ]
  },
  {
   "cell_type": "markdown",
   "id": "756b2e96-e7ba-4a79-b5cc-25517db68fb6",
   "metadata": {},
   "source": [
    "## Summary\n",
    "\n",
    "The pseudo-annonomyzed data for the model shouls now be in a csv file in the working directory."
   ]
  },
  {
   "cell_type": "code",
   "execution_count": 126,
   "id": "cb277477-d9ed-4019-a2f0-1f439b08532f",
   "metadata": {},
   "outputs": [
    {
     "name": "stdout",
     "output_type": "stream",
     "text": [
      "Working directory: /mnt/batch/tasks/shared/LS_root/mounts/clusters/eric-ci03/code/Users/ext-dirk.fey/FinOMOP-SL\n",
      "Data file: df_xy_tmp.csv\n"
     ]
    }
   ],
   "source": [
    "import os\n",
    "print(f\"Working directory: {os.getcwd()}\")\n",
    "print(f\"Data file: {filename}\")"
   ]
  }
 ],
 "metadata": {
  "kernelspec": {
   "display_name": "Python 3.8 - AzureML",
   "language": "python",
   "name": "python38-azureml"
  },
  "language_info": {
   "codemirror_mode": {
    "name": "ipython",
    "version": 3
   },
   "file_extension": ".py",
   "mimetype": "text/x-python",
   "name": "python",
   "nbconvert_exporter": "python",
   "pygments_lexer": "ipython3",
   "version": "3.8.5"
  }
 },
 "nbformat": 4,
 "nbformat_minor": 5
}
